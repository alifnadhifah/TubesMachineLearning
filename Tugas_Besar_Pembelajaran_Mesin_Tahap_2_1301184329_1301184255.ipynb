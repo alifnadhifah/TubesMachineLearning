{
  "nbformat": 4,
  "nbformat_minor": 0,
  "metadata": {
    "colab": {
      "name": "Tugas Besar Pembelajaran Mesin_Tahap_2_1301184329_1301184255.ipynb",
      "provenance": [],
      "collapsed_sections": [],
      "toc_visible": true,
      "include_colab_link": true
    },
    "kernelspec": {
      "display_name": "Python 3",
      "name": "python3"
    },
    "language_info": {
      "name": "python"
    }
  },
  "cells": [
    {
      "cell_type": "markdown",
      "metadata": {
        "id": "view-in-github",
        "colab_type": "text"
      },
      "source": [
        "<a href=\"https://colab.research.google.com/github/alifnadhifah/Tubes_Machine_Learning/blob/main/Tugas_Besar_Pembelajaran_Mesin_Tahap_2_1301184329_1301184255.ipynb\" target=\"_parent\"><img src=\"https://colab.research.google.com/assets/colab-badge.svg\" alt=\"Open In Colab\"/></a>"
      ]
    },
    {
      "cell_type": "markdown",
      "metadata": {
        "id": "hMyrg-JLHF4E"
      },
      "source": [
        "**Anggota Kelompok**<BR>\n",
        "<pre>\n",
        "Nama : Ibnu Muzakky M. Noor \n",
        "NIM  : 1301184329\n",
        "</pre>\n",
        "<pre>\n",
        "Nama : Alif Ranadian Nadhifah\n",
        "NIM  : 1301184255\n",
        "</pre>\n"
      ]
    },
    {
      "cell_type": "markdown",
      "metadata": {
        "id": "C8fYu8Ac221X"
      },
      "source": [
        "# Library"
      ]
    },
    {
      "cell_type": "code",
      "metadata": {
        "id": "B3imtyJPdAWV"
      },
      "source": [
        "import numpy as np \n",
        "import pandas as pd\n",
        "import matplotlib.pyplot as plt\n",
        "import seaborn as sns\n",
        "import random as rd\n",
        "from sklearn.preprocessing import LabelEncoder\n",
        "\n",
        "from sklearn.tree import DecisionTreeClassifier\n",
        "from sklearn.tree import export_graphviz\n",
        "from sklearn import tree"
      ],
      "execution_count": null,
      "outputs": []
    },
    {
      "cell_type": "code",
      "metadata": {
        "id": "Llse6cLkcohx"
      },
      "source": [
        "import warnings\n",
        "warnings.filterwarnings(\"ignore\")\n",
        "\n",
        "from sklearn.metrics import classification_report"
      ],
      "execution_count": null,
      "outputs": []
    },
    {
      "cell_type": "markdown",
      "metadata": {
        "id": "FWetdOC_jksk"
      },
      "source": [
        "# Exploratory & Processing Data "
      ]
    },
    {
      "cell_type": "markdown",
      "metadata": {
        "id": "7kxURzgL4asV"
      },
      "source": [
        "## Pre-Processing Data"
      ]
    },
    {
      "cell_type": "markdown",
      "metadata": {
        "id": "zoXjdAn_dI7J"
      },
      "source": [
        "### Train Data"
      ]
    },
    {
      "cell_type": "code",
      "metadata": {
        "colab": {
          "base_uri": "https://localhost:8080/",
          "height": 224
        },
        "id": "9JaE7-43ohH7",
        "outputId": "16cf53f4-4bc6-4b90-c89c-a0fd479d5b02"
      },
      "source": [
        "datasalju   = pd.read_csv(\"https://raw.githubusercontent.com/Ibnumuzakky/Dataset/main/salju_train.csv\").drop('id', axis=1)\n",
        "datasalju.head()"
      ],
      "execution_count": null,
      "outputs": [
        {
          "output_type": "execute_result",
          "data": {
            "text/html": [
              "<div>\n",
              "<style scoped>\n",
              "    .dataframe tbody tr th:only-of-type {\n",
              "        vertical-align: middle;\n",
              "    }\n",
              "\n",
              "    .dataframe tbody tr th {\n",
              "        vertical-align: top;\n",
              "    }\n",
              "\n",
              "    .dataframe thead th {\n",
              "        text-align: right;\n",
              "    }\n",
              "</style>\n",
              "<table border=\"1\" class=\"dataframe\">\n",
              "  <thead>\n",
              "    <tr style=\"text-align: right;\">\n",
              "      <th></th>\n",
              "      <th>Tanggal</th>\n",
              "      <th>KodeLokasi</th>\n",
              "      <th>SuhuMin</th>\n",
              "      <th>SuhuMax</th>\n",
              "      <th>Hujan</th>\n",
              "      <th>Penguapan</th>\n",
              "      <th>SinarMatahari</th>\n",
              "      <th>ArahAnginTerkencang</th>\n",
              "      <th>KecepatanAnginTerkencang</th>\n",
              "      <th>ArahAngin9am</th>\n",
              "      <th>ArahAngin3pm</th>\n",
              "      <th>KecepatanAngin9am</th>\n",
              "      <th>KecepatanAngin3pm</th>\n",
              "      <th>Kelembaban9am</th>\n",
              "      <th>Kelembaban3pm</th>\n",
              "      <th>Tekanan9am</th>\n",
              "      <th>Tekanan3pm</th>\n",
              "      <th>Awan9am</th>\n",
              "      <th>Awan3pm</th>\n",
              "      <th>Suhu9am</th>\n",
              "      <th>Suhu3pm</th>\n",
              "      <th>BersaljuHariIni</th>\n",
              "      <th>BersaljuBesok</th>\n",
              "    </tr>\n",
              "  </thead>\n",
              "  <tbody>\n",
              "    <tr>\n",
              "      <th>0</th>\n",
              "      <td>01/06/2014</td>\n",
              "      <td>C4</td>\n",
              "      <td>10.4</td>\n",
              "      <td>15.5</td>\n",
              "      <td>4.8</td>\n",
              "      <td>NaN</td>\n",
              "      <td>NaN</td>\n",
              "      <td>WSW</td>\n",
              "      <td>24.0</td>\n",
              "      <td>NaN</td>\n",
              "      <td>WSW</td>\n",
              "      <td>0.0</td>\n",
              "      <td>13.0</td>\n",
              "      <td>78.0</td>\n",
              "      <td>76.0</td>\n",
              "      <td>1020.1</td>\n",
              "      <td>1018.5</td>\n",
              "      <td>NaN</td>\n",
              "      <td>NaN</td>\n",
              "      <td>13.1</td>\n",
              "      <td>15.0</td>\n",
              "      <td>Ya</td>\n",
              "      <td>Tidak</td>\n",
              "    </tr>\n",
              "    <tr>\n",
              "      <th>1</th>\n",
              "      <td>15/07/2014</td>\n",
              "      <td>C10</td>\n",
              "      <td>9.0</td>\n",
              "      <td>17.0</td>\n",
              "      <td>8.0</td>\n",
              "      <td>2.6</td>\n",
              "      <td>7.4</td>\n",
              "      <td>NaN</td>\n",
              "      <td>NaN</td>\n",
              "      <td>SW</td>\n",
              "      <td>WNW</td>\n",
              "      <td>13.0</td>\n",
              "      <td>20.0</td>\n",
              "      <td>80.0</td>\n",
              "      <td>61.0</td>\n",
              "      <td>1015.2</td>\n",
              "      <td>1014.6</td>\n",
              "      <td>7.0</td>\n",
              "      <td>5.0</td>\n",
              "      <td>11.9</td>\n",
              "      <td>15.5</td>\n",
              "      <td>Ya</td>\n",
              "      <td>Ya</td>\n",
              "    </tr>\n",
              "    <tr>\n",
              "      <th>2</th>\n",
              "      <td>16/02/2011</td>\n",
              "      <td>C46</td>\n",
              "      <td>18.2</td>\n",
              "      <td>32.0</td>\n",
              "      <td>0.0</td>\n",
              "      <td>NaN</td>\n",
              "      <td>NaN</td>\n",
              "      <td>ESE</td>\n",
              "      <td>44.0</td>\n",
              "      <td>SE</td>\n",
              "      <td>SE</td>\n",
              "      <td>15.0</td>\n",
              "      <td>26.0</td>\n",
              "      <td>62.0</td>\n",
              "      <td>42.0</td>\n",
              "      <td>NaN</td>\n",
              "      <td>NaN</td>\n",
              "      <td>NaN</td>\n",
              "      <td>NaN</td>\n",
              "      <td>23.8</td>\n",
              "      <td>29.6</td>\n",
              "      <td>Tidak</td>\n",
              "      <td>Tidak</td>\n",
              "    </tr>\n",
              "    <tr>\n",
              "      <th>3</th>\n",
              "      <td>08/08/2012</td>\n",
              "      <td>C36</td>\n",
              "      <td>7.3</td>\n",
              "      <td>24.5</td>\n",
              "      <td>0.0</td>\n",
              "      <td>8.4</td>\n",
              "      <td>10.4</td>\n",
              "      <td>SSW</td>\n",
              "      <td>54.0</td>\n",
              "      <td>N</td>\n",
              "      <td>SW</td>\n",
              "      <td>13.0</td>\n",
              "      <td>19.0</td>\n",
              "      <td>25.0</td>\n",
              "      <td>17.0</td>\n",
              "      <td>1019.2</td>\n",
              "      <td>1016.9</td>\n",
              "      <td>1.0</td>\n",
              "      <td>7.0</td>\n",
              "      <td>15.3</td>\n",
              "      <td>23.2</td>\n",
              "      <td>Tidak</td>\n",
              "      <td>Tidak</td>\n",
              "    </tr>\n",
              "    <tr>\n",
              "      <th>4</th>\n",
              "      <td>29/10/2016</td>\n",
              "      <td>C7</td>\n",
              "      <td>5.9</td>\n",
              "      <td>20.3</td>\n",
              "      <td>0.0</td>\n",
              "      <td>3.6</td>\n",
              "      <td>12.6</td>\n",
              "      <td>N</td>\n",
              "      <td>37.0</td>\n",
              "      <td>NNW</td>\n",
              "      <td>ESE</td>\n",
              "      <td>22.0</td>\n",
              "      <td>19.0</td>\n",
              "      <td>55.0</td>\n",
              "      <td>48.0</td>\n",
              "      <td>1019.7</td>\n",
              "      <td>1014.7</td>\n",
              "      <td>2.0</td>\n",
              "      <td>6.0</td>\n",
              "      <td>12.4</td>\n",
              "      <td>18.1</td>\n",
              "      <td>Tidak</td>\n",
              "      <td>Tidak</td>\n",
              "    </tr>\n",
              "  </tbody>\n",
              "</table>\n",
              "</div>"
            ],
            "text/plain": [
              "      Tanggal KodeLokasi  SuhuMin  ...  Suhu3pm  BersaljuHariIni  BersaljuBesok\n",
              "0  01/06/2014         C4     10.4  ...     15.0               Ya          Tidak\n",
              "1  15/07/2014        C10      9.0  ...     15.5               Ya             Ya\n",
              "2  16/02/2011        C46     18.2  ...     29.6            Tidak          Tidak\n",
              "3  08/08/2012        C36      7.3  ...     23.2            Tidak          Tidak\n",
              "4  29/10/2016         C7      5.9  ...     18.1            Tidak          Tidak\n",
              "\n",
              "[5 rows x 23 columns]"
            ]
          },
          "metadata": {
            "tags": []
          },
          "execution_count": 3
        }
      ]
    },
    {
      "cell_type": "code",
      "metadata": {
        "colab": {
          "base_uri": "https://localhost:8080/"
        },
        "id": "3Uh3MF8Dp7YP",
        "outputId": "1ba7ab4e-27e3-410e-c97d-d4a8ce5112a4"
      },
      "source": [
        "# Melihat jumlah row dan kolom data\n",
        "datasalju.shape"
      ],
      "execution_count": null,
      "outputs": [
        {
          "output_type": "execute_result",
          "data": {
            "text/plain": [
              "(109095, 23)"
            ]
          },
          "metadata": {
            "tags": []
          },
          "execution_count": 4
        }
      ]
    },
    {
      "cell_type": "code",
      "metadata": {
        "id": "pMpPRhfzphbx"
      },
      "source": [
        "# Drop data yang duplikat\n",
        "datasalju = datasalju.drop_duplicates()"
      ],
      "execution_count": null,
      "outputs": []
    },
    {
      "cell_type": "code",
      "metadata": {
        "colab": {
          "base_uri": "https://localhost:8080/"
        },
        "id": "BIDO-mG8p5XQ",
        "outputId": "38827208-4db2-4c34-8b52-46a2c15e95f1"
      },
      "source": [
        "datasalju.shape"
      ],
      "execution_count": null,
      "outputs": [
        {
          "output_type": "execute_result",
          "data": {
            "text/plain": [
              "(109095, 23)"
            ]
          },
          "metadata": {
            "tags": []
          },
          "execution_count": 6
        }
      ]
    },
    {
      "cell_type": "code",
      "metadata": {
        "colab": {
          "base_uri": "https://localhost:8080/"
        },
        "id": "yF-SLYRMr5x2",
        "outputId": "b0abf083-2d61-4662-8664-6cd7ff118865"
      },
      "source": [
        "datasalju.info()"
      ],
      "execution_count": null,
      "outputs": [
        {
          "output_type": "stream",
          "text": [
            "<class 'pandas.core.frame.DataFrame'>\n",
            "Int64Index: 109095 entries, 0 to 109094\n",
            "Data columns (total 23 columns):\n",
            " #   Column                    Non-Null Count   Dtype  \n",
            "---  ------                    --------------   -----  \n",
            " 0   Tanggal                   109095 non-null  object \n",
            " 1   KodeLokasi                109095 non-null  object \n",
            " 2   SuhuMin                   107973 non-null  float64\n",
            " 3   SuhuMax                   108166 non-null  float64\n",
            " 4   Hujan                     106664 non-null  float64\n",
            " 5   Penguapan                 62071 non-null   float64\n",
            " 6   SinarMatahari             56716 non-null   float64\n",
            " 7   ArahAnginTerkencang       101351 non-null  object \n",
            " 8   KecepatanAnginTerkencang  101399 non-null  float64\n",
            " 9   ArahAngin9am              101172 non-null  object \n",
            " 10  ArahAngin3pm              105898 non-null  object \n",
            " 11  KecepatanAngin9am         107742 non-null  float64\n",
            " 12  KecepatanAngin3pm         106792 non-null  float64\n",
            " 13  Kelembaban9am             107093 non-null  float64\n",
            " 14  Kelembaban3pm             105721 non-null  float64\n",
            " 15  Tekanan9am                97768 non-null   float64\n",
            " 16  Tekanan3pm                97787 non-null   float64\n",
            " 17  Awan9am                   67251 non-null   float64\n",
            " 18  Awan3pm                   64624 non-null   float64\n",
            " 19  Suhu9am                   107755 non-null  float64\n",
            " 20  Suhu3pm                   106397 non-null  float64\n",
            " 21  BersaljuHariIni           106664 non-null  object \n",
            " 22  BersaljuBesok             106664 non-null  object \n",
            "dtypes: float64(16), object(7)\n",
            "memory usage: 20.0+ MB\n"
          ],
          "name": "stdout"
        }
      ]
    },
    {
      "cell_type": "markdown",
      "metadata": {
        "id": "2L6QIBDuNTLL"
      },
      "source": [
        "Melihat value unique pada kolom data yang bertipe object"
      ]
    },
    {
      "cell_type": "code",
      "metadata": {
        "colab": {
          "base_uri": "https://localhost:8080/",
          "height": 173
        },
        "id": "h2ujQ7ZqqfBh",
        "outputId": "31a7e360-9abf-4ec5-d64b-ffd1da950d96"
      },
      "source": [
        "# Melihat value unique pada kolom data yang bertipe object\n",
        "datasalju.describe(include=[\"O\"])"
      ],
      "execution_count": null,
      "outputs": [
        {
          "output_type": "execute_result",
          "data": {
            "text/html": [
              "<div>\n",
              "<style scoped>\n",
              "    .dataframe tbody tr th:only-of-type {\n",
              "        vertical-align: middle;\n",
              "    }\n",
              "\n",
              "    .dataframe tbody tr th {\n",
              "        vertical-align: top;\n",
              "    }\n",
              "\n",
              "    .dataframe thead th {\n",
              "        text-align: right;\n",
              "    }\n",
              "</style>\n",
              "<table border=\"1\" class=\"dataframe\">\n",
              "  <thead>\n",
              "    <tr style=\"text-align: right;\">\n",
              "      <th></th>\n",
              "      <th>Tanggal</th>\n",
              "      <th>KodeLokasi</th>\n",
              "      <th>ArahAnginTerkencang</th>\n",
              "      <th>ArahAngin9am</th>\n",
              "      <th>ArahAngin3pm</th>\n",
              "      <th>BersaljuHariIni</th>\n",
              "      <th>BersaljuBesok</th>\n",
              "    </tr>\n",
              "  </thead>\n",
              "  <tbody>\n",
              "    <tr>\n",
              "      <th>count</th>\n",
              "      <td>109095</td>\n",
              "      <td>109095</td>\n",
              "      <td>101351</td>\n",
              "      <td>101172</td>\n",
              "      <td>105898</td>\n",
              "      <td>106664</td>\n",
              "      <td>106664</td>\n",
              "    </tr>\n",
              "    <tr>\n",
              "      <th>unique</th>\n",
              "      <td>3414</td>\n",
              "      <td>49</td>\n",
              "      <td>16</td>\n",
              "      <td>16</td>\n",
              "      <td>16</td>\n",
              "      <td>2</td>\n",
              "      <td>2</td>\n",
              "    </tr>\n",
              "    <tr>\n",
              "      <th>top</th>\n",
              "      <td>31/03/2017</td>\n",
              "      <td>C1</td>\n",
              "      <td>W</td>\n",
              "      <td>N</td>\n",
              "      <td>SE</td>\n",
              "      <td>Tidak</td>\n",
              "      <td>Tidak</td>\n",
              "    </tr>\n",
              "    <tr>\n",
              "      <th>freq</th>\n",
              "      <td>45</td>\n",
              "      <td>2598</td>\n",
              "      <td>7491</td>\n",
              "      <td>8820</td>\n",
              "      <td>8204</td>\n",
              "      <td>82670</td>\n",
              "      <td>82701</td>\n",
              "    </tr>\n",
              "  </tbody>\n",
              "</table>\n",
              "</div>"
            ],
            "text/plain": [
              "           Tanggal KodeLokasi  ... BersaljuHariIni BersaljuBesok\n",
              "count       109095     109095  ...          106664        106664\n",
              "unique        3414         49  ...               2             2\n",
              "top     31/03/2017         C1  ...           Tidak         Tidak\n",
              "freq            45       2598  ...           82670         82701\n",
              "\n",
              "[4 rows x 7 columns]"
            ]
          },
          "metadata": {
            "tags": []
          },
          "execution_count": 8
        }
      ]
    },
    {
      "cell_type": "code",
      "metadata": {
        "colab": {
          "base_uri": "https://localhost:8080/"
        },
        "id": "vOeE20BCr_uO",
        "outputId": "5e902e3f-f2e0-45e7-b6e2-6324f6adfdd6"
      },
      "source": [
        "KodeLokasi = list(datasalju['KodeLokasi'].unique())\n",
        "KodeLokasi"
      ],
      "execution_count": null,
      "outputs": [
        {
          "output_type": "execute_result",
          "data": {
            "text/plain": [
              "['C4',\n",
              " 'C10',\n",
              " 'C46',\n",
              " 'C36',\n",
              " 'C7',\n",
              " 'C12',\n",
              " 'C44',\n",
              " 'C8',\n",
              " 'C31',\n",
              " 'C15',\n",
              " 'C1',\n",
              " 'C21',\n",
              " 'C14',\n",
              " 'C33',\n",
              " 'C25',\n",
              " 'C24',\n",
              " 'C41',\n",
              " 'C13',\n",
              " 'C5',\n",
              " 'C18',\n",
              " 'C35',\n",
              " 'C43',\n",
              " 'C47',\n",
              " 'C11',\n",
              " 'C42',\n",
              " 'C23',\n",
              " 'C40',\n",
              " 'C20',\n",
              " 'C27',\n",
              " 'C2',\n",
              " 'C34',\n",
              " 'C17',\n",
              " 'C19',\n",
              " 'C45',\n",
              " 'C28',\n",
              " 'C29',\n",
              " 'C39',\n",
              " 'C22',\n",
              " 'C16',\n",
              " 'C32',\n",
              " 'C37',\n",
              " 'C48',\n",
              " 'C6',\n",
              " 'C26',\n",
              " 'C9',\n",
              " 'C3',\n",
              " 'C30',\n",
              " 'C38',\n",
              " 'C49']"
            ]
          },
          "metadata": {
            "tags": []
          },
          "execution_count": 9
        }
      ]
    },
    {
      "cell_type": "code",
      "metadata": {
        "colab": {
          "base_uri": "https://localhost:8080/"
        },
        "id": "z8QKkiLCs1lV",
        "outputId": "5079bdc2-1871-4abd-a547-f1bdd1b1ae34"
      },
      "source": [
        "ArahAnginTerkencang = list(datasalju['ArahAnginTerkencang'].unique())\n",
        "ArahAnginTerkencang"
      ],
      "execution_count": null,
      "outputs": [
        {
          "output_type": "execute_result",
          "data": {
            "text/plain": [
              "['WSW',\n",
              " nan,\n",
              " 'ESE',\n",
              " 'SSW',\n",
              " 'N',\n",
              " 'SW',\n",
              " 'WNW',\n",
              " 'W',\n",
              " 'ENE',\n",
              " 'S',\n",
              " 'SE',\n",
              " 'SSE',\n",
              " 'E',\n",
              " 'NNW',\n",
              " 'NW',\n",
              " 'NE',\n",
              " 'NNE']"
            ]
          },
          "metadata": {
            "tags": []
          },
          "execution_count": 10
        }
      ]
    },
    {
      "cell_type": "code",
      "metadata": {
        "colab": {
          "base_uri": "https://localhost:8080/"
        },
        "id": "MNGaVzlYsMuU",
        "outputId": "6767b7aa-f545-4a66-e8f7-fa9294e2978a"
      },
      "source": [
        "ArahAngin9am = list(datasalju['ArahAngin9am'].unique())\n",
        "ArahAngin9am"
      ],
      "execution_count": null,
      "outputs": [
        {
          "output_type": "execute_result",
          "data": {
            "text/plain": [
              "[nan,\n",
              " 'SW',\n",
              " 'SE',\n",
              " 'N',\n",
              " 'NNW',\n",
              " 'NW',\n",
              " 'WNW',\n",
              " 'E',\n",
              " 'ESE',\n",
              " 'W',\n",
              " 'NE',\n",
              " 'NNE',\n",
              " 'S',\n",
              " 'SSE',\n",
              " 'SSW',\n",
              " 'WSW',\n",
              " 'ENE']"
            ]
          },
          "metadata": {
            "tags": []
          },
          "execution_count": 11
        }
      ]
    },
    {
      "cell_type": "code",
      "metadata": {
        "colab": {
          "base_uri": "https://localhost:8080/"
        },
        "id": "J8nvF76vscC0",
        "outputId": "fcd2cba8-d7ba-49dc-c9ba-e99cbda80605"
      },
      "source": [
        "ArahAngin3pm = list(datasalju['ArahAngin3pm'].unique())\n",
        "ArahAngin3pm"
      ],
      "execution_count": null,
      "outputs": [
        {
          "output_type": "execute_result",
          "data": {
            "text/plain": [
              "['WSW',\n",
              " 'WNW',\n",
              " 'SE',\n",
              " 'SW',\n",
              " 'ESE',\n",
              " 'SSW',\n",
              " 'NNW',\n",
              " nan,\n",
              " 'W',\n",
              " 'N',\n",
              " 'NW',\n",
              " 'S',\n",
              " 'SSE',\n",
              " 'ENE',\n",
              " 'NE',\n",
              " 'E',\n",
              " 'NNE']"
            ]
          },
          "metadata": {
            "tags": []
          },
          "execution_count": 12
        }
      ]
    },
    {
      "cell_type": "code",
      "metadata": {
        "colab": {
          "base_uri": "https://localhost:8080/"
        },
        "id": "0k71ROd_sclN",
        "outputId": "2af30ec5-8222-42c7-81ac-e6ac8918f608"
      },
      "source": [
        "BersaljuHariIni = list(datasalju['BersaljuHariIni'].unique())\n",
        "BersaljuHariIni"
      ],
      "execution_count": null,
      "outputs": [
        {
          "output_type": "execute_result",
          "data": {
            "text/plain": [
              "['Ya', 'Tidak', nan]"
            ]
          },
          "metadata": {
            "tags": []
          },
          "execution_count": 13
        }
      ]
    },
    {
      "cell_type": "code",
      "metadata": {
        "colab": {
          "base_uri": "https://localhost:8080/"
        },
        "id": "6eQxtIaGsdDr",
        "outputId": "ff5717eb-a6a3-45ef-ad24-70673327aea3"
      },
      "source": [
        "BersaljuBesok = list(datasalju['BersaljuBesok'].unique())\n",
        "BersaljuBesok"
      ],
      "execution_count": null,
      "outputs": [
        {
          "output_type": "execute_result",
          "data": {
            "text/plain": [
              "['Tidak', 'Ya', nan]"
            ]
          },
          "metadata": {
            "tags": []
          },
          "execution_count": 14
        }
      ]
    },
    {
      "cell_type": "code",
      "metadata": {
        "id": "kNz4GESrtzGP"
      },
      "source": [
        "#Melakukan encode value data yang bertipe object menjadi bertipe integer/float\n",
        "encode_dfs = {\"KodeLokasi\": {\"C1\":0, \"C2\":1, \"C3\":2, \"C4\":3, \"C5\":4, \"C6\":5, \"C7\":6, \"C8\":7, \"C9\":8, \"C10\":9, \n",
        "                             \"C11\":10, \"C12\":11, \"C13\":12, \"C14\":13, \"C15\":14, \"C16\":15, \"C17\":16, \"C18\":17, \"C19\":18, \"C20\":19,\n",
        "                             \"C21\":20, \"C22\":21, \"C23\":22, \"C24\":23, \"C25\":24, \"C26\":25, \"C27\":26, \"C28\":27, \"C29\":28, \"C30\":29,\n",
        "                             \"C31\":30, \"C32\":31, \"C33\":32, \"C34\":33, \"C35\":34, \"C36\":35, \"C37\":36, \"C38\":37, \"C39\":38, \"C40\":39, \n",
        "                             \"C41\":40, \"C42\":41, \"C43\":42, \"C44\":43, \"C45\":44, \"C46\":45, \"C47\":46, \"C48\":47, \"C49\":48},\n",
        "              \"ArahAnginTerkencang\": {\"E\":0, \"ENE\":1, \"ESE\":2, \"N\":3, \"NE\":4, \"NNE\":5,\n",
        "                                      \"NNW\":6, \"NW\":7, \"S\":8, \"SE\":9, \"SSE\":10,\n",
        "                                      \"SSW\":11, \"SW\":12, \"W\":13, \"WNW\":14, \"WSW\":15},\n",
        "              \"ArahAngin9am\": {\"E\":0, \"ENE\":1, \"ESE\":2, \"N\":3, \"NE\":4, \"NNE\":5,\n",
        "                               \"NNW\":6, \"NW\":7, \"S\":8, \"SE\":9, \"SSE\":10,\n",
        "                               \"SSW\":11, \"SW\":12, \"W\":13, \"WNW\":14, \"WSW\":15},\n",
        "              \"ArahAngin3pm\": {\"E\":0, \"ENE\":1, \"ESE\":2, \"N\":3, \"NE\":4, \"NNE\":5,\n",
        "                               \"NNW\":6, \"NW\":7, \"S\":8, \"SE\":9, \"SSE\":10,\n",
        "                               \"SSW\":11, \"SW\":12, \"W\":13, \"WNW\":14, \"WSW\":15},\n",
        "              \"BersaljuHariIni\": {\"Ya\":0 , \"Tidak\":1},\n",
        "              \"BersaljuBesok\": {\"Ya\":0 , \"Tidak\":1}}\n",
        "datasalju.replace(encode_dfs, inplace=True) "
      ],
      "execution_count": null,
      "outputs": []
    },
    {
      "cell_type": "code",
      "metadata": {
        "colab": {
          "base_uri": "https://localhost:8080/",
          "height": 224
        },
        "id": "p-V90Vg_2qwo",
        "outputId": "52da369d-e833-4840-b04e-ec6a12074b2b"
      },
      "source": [
        "datasalju.head()"
      ],
      "execution_count": null,
      "outputs": [
        {
          "output_type": "execute_result",
          "data": {
            "text/html": [
              "<div>\n",
              "<style scoped>\n",
              "    .dataframe tbody tr th:only-of-type {\n",
              "        vertical-align: middle;\n",
              "    }\n",
              "\n",
              "    .dataframe tbody tr th {\n",
              "        vertical-align: top;\n",
              "    }\n",
              "\n",
              "    .dataframe thead th {\n",
              "        text-align: right;\n",
              "    }\n",
              "</style>\n",
              "<table border=\"1\" class=\"dataframe\">\n",
              "  <thead>\n",
              "    <tr style=\"text-align: right;\">\n",
              "      <th></th>\n",
              "      <th>Tanggal</th>\n",
              "      <th>KodeLokasi</th>\n",
              "      <th>SuhuMin</th>\n",
              "      <th>SuhuMax</th>\n",
              "      <th>Hujan</th>\n",
              "      <th>Penguapan</th>\n",
              "      <th>SinarMatahari</th>\n",
              "      <th>ArahAnginTerkencang</th>\n",
              "      <th>KecepatanAnginTerkencang</th>\n",
              "      <th>ArahAngin9am</th>\n",
              "      <th>ArahAngin3pm</th>\n",
              "      <th>KecepatanAngin9am</th>\n",
              "      <th>KecepatanAngin3pm</th>\n",
              "      <th>Kelembaban9am</th>\n",
              "      <th>Kelembaban3pm</th>\n",
              "      <th>Tekanan9am</th>\n",
              "      <th>Tekanan3pm</th>\n",
              "      <th>Awan9am</th>\n",
              "      <th>Awan3pm</th>\n",
              "      <th>Suhu9am</th>\n",
              "      <th>Suhu3pm</th>\n",
              "      <th>BersaljuHariIni</th>\n",
              "      <th>BersaljuBesok</th>\n",
              "    </tr>\n",
              "  </thead>\n",
              "  <tbody>\n",
              "    <tr>\n",
              "      <th>0</th>\n",
              "      <td>01/06/2014</td>\n",
              "      <td>3</td>\n",
              "      <td>10.4</td>\n",
              "      <td>15.5</td>\n",
              "      <td>4.8</td>\n",
              "      <td>NaN</td>\n",
              "      <td>NaN</td>\n",
              "      <td>15.0</td>\n",
              "      <td>24.0</td>\n",
              "      <td>NaN</td>\n",
              "      <td>15.0</td>\n",
              "      <td>0.0</td>\n",
              "      <td>13.0</td>\n",
              "      <td>78.0</td>\n",
              "      <td>76.0</td>\n",
              "      <td>1020.1</td>\n",
              "      <td>1018.5</td>\n",
              "      <td>NaN</td>\n",
              "      <td>NaN</td>\n",
              "      <td>13.1</td>\n",
              "      <td>15.0</td>\n",
              "      <td>0.0</td>\n",
              "      <td>1.0</td>\n",
              "    </tr>\n",
              "    <tr>\n",
              "      <th>1</th>\n",
              "      <td>15/07/2014</td>\n",
              "      <td>9</td>\n",
              "      <td>9.0</td>\n",
              "      <td>17.0</td>\n",
              "      <td>8.0</td>\n",
              "      <td>2.6</td>\n",
              "      <td>7.4</td>\n",
              "      <td>NaN</td>\n",
              "      <td>NaN</td>\n",
              "      <td>12.0</td>\n",
              "      <td>14.0</td>\n",
              "      <td>13.0</td>\n",
              "      <td>20.0</td>\n",
              "      <td>80.0</td>\n",
              "      <td>61.0</td>\n",
              "      <td>1015.2</td>\n",
              "      <td>1014.6</td>\n",
              "      <td>7.0</td>\n",
              "      <td>5.0</td>\n",
              "      <td>11.9</td>\n",
              "      <td>15.5</td>\n",
              "      <td>0.0</td>\n",
              "      <td>0.0</td>\n",
              "    </tr>\n",
              "    <tr>\n",
              "      <th>2</th>\n",
              "      <td>16/02/2011</td>\n",
              "      <td>45</td>\n",
              "      <td>18.2</td>\n",
              "      <td>32.0</td>\n",
              "      <td>0.0</td>\n",
              "      <td>NaN</td>\n",
              "      <td>NaN</td>\n",
              "      <td>2.0</td>\n",
              "      <td>44.0</td>\n",
              "      <td>9.0</td>\n",
              "      <td>9.0</td>\n",
              "      <td>15.0</td>\n",
              "      <td>26.0</td>\n",
              "      <td>62.0</td>\n",
              "      <td>42.0</td>\n",
              "      <td>NaN</td>\n",
              "      <td>NaN</td>\n",
              "      <td>NaN</td>\n",
              "      <td>NaN</td>\n",
              "      <td>23.8</td>\n",
              "      <td>29.6</td>\n",
              "      <td>1.0</td>\n",
              "      <td>1.0</td>\n",
              "    </tr>\n",
              "    <tr>\n",
              "      <th>3</th>\n",
              "      <td>08/08/2012</td>\n",
              "      <td>35</td>\n",
              "      <td>7.3</td>\n",
              "      <td>24.5</td>\n",
              "      <td>0.0</td>\n",
              "      <td>8.4</td>\n",
              "      <td>10.4</td>\n",
              "      <td>11.0</td>\n",
              "      <td>54.0</td>\n",
              "      <td>3.0</td>\n",
              "      <td>12.0</td>\n",
              "      <td>13.0</td>\n",
              "      <td>19.0</td>\n",
              "      <td>25.0</td>\n",
              "      <td>17.0</td>\n",
              "      <td>1019.2</td>\n",
              "      <td>1016.9</td>\n",
              "      <td>1.0</td>\n",
              "      <td>7.0</td>\n",
              "      <td>15.3</td>\n",
              "      <td>23.2</td>\n",
              "      <td>1.0</td>\n",
              "      <td>1.0</td>\n",
              "    </tr>\n",
              "    <tr>\n",
              "      <th>4</th>\n",
              "      <td>29/10/2016</td>\n",
              "      <td>6</td>\n",
              "      <td>5.9</td>\n",
              "      <td>20.3</td>\n",
              "      <td>0.0</td>\n",
              "      <td>3.6</td>\n",
              "      <td>12.6</td>\n",
              "      <td>3.0</td>\n",
              "      <td>37.0</td>\n",
              "      <td>6.0</td>\n",
              "      <td>2.0</td>\n",
              "      <td>22.0</td>\n",
              "      <td>19.0</td>\n",
              "      <td>55.0</td>\n",
              "      <td>48.0</td>\n",
              "      <td>1019.7</td>\n",
              "      <td>1014.7</td>\n",
              "      <td>2.0</td>\n",
              "      <td>6.0</td>\n",
              "      <td>12.4</td>\n",
              "      <td>18.1</td>\n",
              "      <td>1.0</td>\n",
              "      <td>1.0</td>\n",
              "    </tr>\n",
              "  </tbody>\n",
              "</table>\n",
              "</div>"
            ],
            "text/plain": [
              "      Tanggal  KodeLokasi  SuhuMin  ...  Suhu3pm  BersaljuHariIni  BersaljuBesok\n",
              "0  01/06/2014           3     10.4  ...     15.0              0.0            1.0\n",
              "1  15/07/2014           9      9.0  ...     15.5              0.0            0.0\n",
              "2  16/02/2011          45     18.2  ...     29.6              1.0            1.0\n",
              "3  08/08/2012          35      7.3  ...     23.2              1.0            1.0\n",
              "4  29/10/2016           6      5.9  ...     18.1              1.0            1.0\n",
              "\n",
              "[5 rows x 23 columns]"
            ]
          },
          "metadata": {
            "tags": []
          },
          "execution_count": 16
        }
      ]
    },
    {
      "cell_type": "code",
      "metadata": {
        "colab": {
          "base_uri": "https://localhost:8080/"
        },
        "id": "scvg8YJt3NzV",
        "outputId": "8caa371b-126b-4a02-9419-860fbee4fa67"
      },
      "source": [
        "datasalju.columns"
      ],
      "execution_count": null,
      "outputs": [
        {
          "output_type": "execute_result",
          "data": {
            "text/plain": [
              "Index(['Tanggal', 'KodeLokasi', 'SuhuMin', 'SuhuMax', 'Hujan', 'Penguapan',\n",
              "       'SinarMatahari', 'ArahAnginTerkencang', 'KecepatanAnginTerkencang',\n",
              "       'ArahAngin9am', 'ArahAngin3pm', 'KecepatanAngin9am',\n",
              "       'KecepatanAngin3pm', 'Kelembaban9am', 'Kelembaban3pm', 'Tekanan9am',\n",
              "       'Tekanan3pm', 'Awan9am', 'Awan3pm', 'Suhu9am', 'Suhu3pm',\n",
              "       'BersaljuHariIni', 'BersaljuBesok'],\n",
              "      dtype='object')"
            ]
          },
          "metadata": {
            "tags": []
          },
          "execution_count": 17
        }
      ]
    },
    {
      "cell_type": "code",
      "metadata": {
        "colab": {
          "base_uri": "https://localhost:8080/"
        },
        "id": "RIdfx6tOvJzs",
        "outputId": "4ac03826-ae79-4fd2-890d-3f12561b227d"
      },
      "source": [
        "#mengecek dan menghitung jumlah nilai yang null/kosong\n",
        "datasalju.isnull().sum()"
      ],
      "execution_count": null,
      "outputs": [
        {
          "output_type": "execute_result",
          "data": {
            "text/plain": [
              "Tanggal                         0\n",
              "KodeLokasi                      0\n",
              "SuhuMin                      1122\n",
              "SuhuMax                       929\n",
              "Hujan                        2431\n",
              "Penguapan                   47024\n",
              "SinarMatahari               52379\n",
              "ArahAnginTerkencang          7744\n",
              "KecepatanAnginTerkencang     7696\n",
              "ArahAngin9am                 7923\n",
              "ArahAngin3pm                 3197\n",
              "KecepatanAngin9am            1353\n",
              "KecepatanAngin3pm            2303\n",
              "Kelembaban9am                2002\n",
              "Kelembaban3pm                3374\n",
              "Tekanan9am                  11327\n",
              "Tekanan3pm                  11308\n",
              "Awan9am                     41844\n",
              "Awan3pm                     44471\n",
              "Suhu9am                      1340\n",
              "Suhu3pm                      2698\n",
              "BersaljuHariIni              2431\n",
              "BersaljuBesok                2431\n",
              "dtype: int64"
            ]
          },
          "metadata": {
            "tags": []
          },
          "execution_count": 18
        }
      ]
    },
    {
      "cell_type": "code",
      "metadata": {
        "id": "FP28l67V3Mfo"
      },
      "source": [
        "cols = ['Tanggal', 'KodeLokasi', 'SuhuMin', 'SuhuMax', 'Hujan', 'Penguapan',\n",
        "        'SinarMatahari', 'ArahAnginTerkencang', 'KecepatanAnginTerkencang',\n",
        "        'ArahAngin9am', 'ArahAngin3pm', 'KecepatanAngin9am',\n",
        "        'KecepatanAngin3pm', 'Kelembaban9am', 'Kelembaban3pm', 'Tekanan9am',\n",
        "        'Tekanan3pm', 'Awan9am', 'Awan3pm', 'Suhu9am', 'Suhu3pm',\n",
        "        'BersaljuHariIni', 'BersaljuBesok']\n",
        "# Missing value handler\n",
        "for col in cols:\n",
        "    datasalju[col] = datasalju[col].fillna(datasalju[col].mode()[0]) "
      ],
      "execution_count": null,
      "outputs": []
    },
    {
      "cell_type": "code",
      "metadata": {
        "colab": {
          "base_uri": "https://localhost:8080/",
          "height": 224
        },
        "id": "2a6cq_Nz35XO",
        "outputId": "cb70354f-2f3f-43ef-a03b-21a0633f6b92"
      },
      "source": [
        "datasalju.head()"
      ],
      "execution_count": null,
      "outputs": [
        {
          "output_type": "execute_result",
          "data": {
            "text/html": [
              "<div>\n",
              "<style scoped>\n",
              "    .dataframe tbody tr th:only-of-type {\n",
              "        vertical-align: middle;\n",
              "    }\n",
              "\n",
              "    .dataframe tbody tr th {\n",
              "        vertical-align: top;\n",
              "    }\n",
              "\n",
              "    .dataframe thead th {\n",
              "        text-align: right;\n",
              "    }\n",
              "</style>\n",
              "<table border=\"1\" class=\"dataframe\">\n",
              "  <thead>\n",
              "    <tr style=\"text-align: right;\">\n",
              "      <th></th>\n",
              "      <th>Tanggal</th>\n",
              "      <th>KodeLokasi</th>\n",
              "      <th>SuhuMin</th>\n",
              "      <th>SuhuMax</th>\n",
              "      <th>Hujan</th>\n",
              "      <th>Penguapan</th>\n",
              "      <th>SinarMatahari</th>\n",
              "      <th>ArahAnginTerkencang</th>\n",
              "      <th>KecepatanAnginTerkencang</th>\n",
              "      <th>ArahAngin9am</th>\n",
              "      <th>ArahAngin3pm</th>\n",
              "      <th>KecepatanAngin9am</th>\n",
              "      <th>KecepatanAngin3pm</th>\n",
              "      <th>Kelembaban9am</th>\n",
              "      <th>Kelembaban3pm</th>\n",
              "      <th>Tekanan9am</th>\n",
              "      <th>Tekanan3pm</th>\n",
              "      <th>Awan9am</th>\n",
              "      <th>Awan3pm</th>\n",
              "      <th>Suhu9am</th>\n",
              "      <th>Suhu3pm</th>\n",
              "      <th>BersaljuHariIni</th>\n",
              "      <th>BersaljuBesok</th>\n",
              "    </tr>\n",
              "  </thead>\n",
              "  <tbody>\n",
              "    <tr>\n",
              "      <th>0</th>\n",
              "      <td>01/06/2014</td>\n",
              "      <td>3</td>\n",
              "      <td>10.4</td>\n",
              "      <td>15.5</td>\n",
              "      <td>4.8</td>\n",
              "      <td>4.0</td>\n",
              "      <td>0.0</td>\n",
              "      <td>15.0</td>\n",
              "      <td>24.0</td>\n",
              "      <td>3.0</td>\n",
              "      <td>15.0</td>\n",
              "      <td>0.0</td>\n",
              "      <td>13.0</td>\n",
              "      <td>78.0</td>\n",
              "      <td>76.0</td>\n",
              "      <td>1020.1</td>\n",
              "      <td>1018.5</td>\n",
              "      <td>7.0</td>\n",
              "      <td>7.0</td>\n",
              "      <td>13.1</td>\n",
              "      <td>15.0</td>\n",
              "      <td>0.0</td>\n",
              "      <td>1.0</td>\n",
              "    </tr>\n",
              "    <tr>\n",
              "      <th>1</th>\n",
              "      <td>15/07/2014</td>\n",
              "      <td>9</td>\n",
              "      <td>9.0</td>\n",
              "      <td>17.0</td>\n",
              "      <td>8.0</td>\n",
              "      <td>2.6</td>\n",
              "      <td>7.4</td>\n",
              "      <td>13.0</td>\n",
              "      <td>35.0</td>\n",
              "      <td>12.0</td>\n",
              "      <td>14.0</td>\n",
              "      <td>13.0</td>\n",
              "      <td>20.0</td>\n",
              "      <td>80.0</td>\n",
              "      <td>61.0</td>\n",
              "      <td>1015.2</td>\n",
              "      <td>1014.6</td>\n",
              "      <td>7.0</td>\n",
              "      <td>5.0</td>\n",
              "      <td>11.9</td>\n",
              "      <td>15.5</td>\n",
              "      <td>0.0</td>\n",
              "      <td>0.0</td>\n",
              "    </tr>\n",
              "    <tr>\n",
              "      <th>2</th>\n",
              "      <td>16/02/2011</td>\n",
              "      <td>45</td>\n",
              "      <td>18.2</td>\n",
              "      <td>32.0</td>\n",
              "      <td>0.0</td>\n",
              "      <td>4.0</td>\n",
              "      <td>0.0</td>\n",
              "      <td>2.0</td>\n",
              "      <td>44.0</td>\n",
              "      <td>9.0</td>\n",
              "      <td>9.0</td>\n",
              "      <td>15.0</td>\n",
              "      <td>26.0</td>\n",
              "      <td>62.0</td>\n",
              "      <td>42.0</td>\n",
              "      <td>1016.4</td>\n",
              "      <td>1013.5</td>\n",
              "      <td>7.0</td>\n",
              "      <td>7.0</td>\n",
              "      <td>23.8</td>\n",
              "      <td>29.6</td>\n",
              "      <td>1.0</td>\n",
              "      <td>1.0</td>\n",
              "    </tr>\n",
              "    <tr>\n",
              "      <th>3</th>\n",
              "      <td>08/08/2012</td>\n",
              "      <td>35</td>\n",
              "      <td>7.3</td>\n",
              "      <td>24.5</td>\n",
              "      <td>0.0</td>\n",
              "      <td>8.4</td>\n",
              "      <td>10.4</td>\n",
              "      <td>11.0</td>\n",
              "      <td>54.0</td>\n",
              "      <td>3.0</td>\n",
              "      <td>12.0</td>\n",
              "      <td>13.0</td>\n",
              "      <td>19.0</td>\n",
              "      <td>25.0</td>\n",
              "      <td>17.0</td>\n",
              "      <td>1019.2</td>\n",
              "      <td>1016.9</td>\n",
              "      <td>1.0</td>\n",
              "      <td>7.0</td>\n",
              "      <td>15.3</td>\n",
              "      <td>23.2</td>\n",
              "      <td>1.0</td>\n",
              "      <td>1.0</td>\n",
              "    </tr>\n",
              "    <tr>\n",
              "      <th>4</th>\n",
              "      <td>29/10/2016</td>\n",
              "      <td>6</td>\n",
              "      <td>5.9</td>\n",
              "      <td>20.3</td>\n",
              "      <td>0.0</td>\n",
              "      <td>3.6</td>\n",
              "      <td>12.6</td>\n",
              "      <td>3.0</td>\n",
              "      <td>37.0</td>\n",
              "      <td>6.0</td>\n",
              "      <td>2.0</td>\n",
              "      <td>22.0</td>\n",
              "      <td>19.0</td>\n",
              "      <td>55.0</td>\n",
              "      <td>48.0</td>\n",
              "      <td>1019.7</td>\n",
              "      <td>1014.7</td>\n",
              "      <td>2.0</td>\n",
              "      <td>6.0</td>\n",
              "      <td>12.4</td>\n",
              "      <td>18.1</td>\n",
              "      <td>1.0</td>\n",
              "      <td>1.0</td>\n",
              "    </tr>\n",
              "  </tbody>\n",
              "</table>\n",
              "</div>"
            ],
            "text/plain": [
              "      Tanggal  KodeLokasi  SuhuMin  ...  Suhu3pm  BersaljuHariIni  BersaljuBesok\n",
              "0  01/06/2014           3     10.4  ...     15.0              0.0            1.0\n",
              "1  15/07/2014           9      9.0  ...     15.5              0.0            0.0\n",
              "2  16/02/2011          45     18.2  ...     29.6              1.0            1.0\n",
              "3  08/08/2012          35      7.3  ...     23.2              1.0            1.0\n",
              "4  29/10/2016           6      5.9  ...     18.1              1.0            1.0\n",
              "\n",
              "[5 rows x 23 columns]"
            ]
          },
          "metadata": {
            "tags": []
          },
          "execution_count": 20
        }
      ]
    },
    {
      "cell_type": "code",
      "metadata": {
        "colab": {
          "base_uri": "https://localhost:8080/"
        },
        "id": "QqMEhO2J4Cmj",
        "outputId": "58b478da-fdce-4b09-ba3b-30b9734371e0"
      },
      "source": [
        "datasalju.info()"
      ],
      "execution_count": null,
      "outputs": [
        {
          "output_type": "stream",
          "text": [
            "<class 'pandas.core.frame.DataFrame'>\n",
            "Int64Index: 109095 entries, 0 to 109094\n",
            "Data columns (total 23 columns):\n",
            " #   Column                    Non-Null Count   Dtype  \n",
            "---  ------                    --------------   -----  \n",
            " 0   Tanggal                   109095 non-null  object \n",
            " 1   KodeLokasi                109095 non-null  int64  \n",
            " 2   SuhuMin                   109095 non-null  float64\n",
            " 3   SuhuMax                   109095 non-null  float64\n",
            " 4   Hujan                     109095 non-null  float64\n",
            " 5   Penguapan                 109095 non-null  float64\n",
            " 6   SinarMatahari             109095 non-null  float64\n",
            " 7   ArahAnginTerkencang       109095 non-null  float64\n",
            " 8   KecepatanAnginTerkencang  109095 non-null  float64\n",
            " 9   ArahAngin9am              109095 non-null  float64\n",
            " 10  ArahAngin3pm              109095 non-null  float64\n",
            " 11  KecepatanAngin9am         109095 non-null  float64\n",
            " 12  KecepatanAngin3pm         109095 non-null  float64\n",
            " 13  Kelembaban9am             109095 non-null  float64\n",
            " 14  Kelembaban3pm             109095 non-null  float64\n",
            " 15  Tekanan9am                109095 non-null  float64\n",
            " 16  Tekanan3pm                109095 non-null  float64\n",
            " 17  Awan9am                   109095 non-null  float64\n",
            " 18  Awan3pm                   109095 non-null  float64\n",
            " 19  Suhu9am                   109095 non-null  float64\n",
            " 20  Suhu3pm                   109095 non-null  float64\n",
            " 21  BersaljuHariIni           109095 non-null  float64\n",
            " 22  BersaljuBesok             109095 non-null  float64\n",
            "dtypes: float64(21), int64(1), object(1)\n",
            "memory usage: 20.0+ MB\n"
          ],
          "name": "stdout"
        }
      ]
    },
    {
      "cell_type": "markdown",
      "metadata": {
        "id": "cMINfdI17qQh"
      },
      "source": [
        "### Test Data"
      ]
    },
    {
      "cell_type": "code",
      "metadata": {
        "colab": {
          "base_uri": "https://localhost:8080/",
          "height": 224
        },
        "id": "PJaG-R2e7v0m",
        "outputId": "964d3fae-425a-495a-830e-56c2cee90054"
      },
      "source": [
        "datasalju_test   = pd.read_csv(\"https://raw.githubusercontent.com/Ibnumuzakky/Dataset/main/salju_test.csv\") #.drop('id', axis=1)\n",
        "datasalju_test.head()"
      ],
      "execution_count": null,
      "outputs": [
        {
          "output_type": "execute_result",
          "data": {
            "text/html": [
              "<div>\n",
              "<style scoped>\n",
              "    .dataframe tbody tr th:only-of-type {\n",
              "        vertical-align: middle;\n",
              "    }\n",
              "\n",
              "    .dataframe tbody tr th {\n",
              "        vertical-align: top;\n",
              "    }\n",
              "\n",
              "    .dataframe thead th {\n",
              "        text-align: right;\n",
              "    }\n",
              "</style>\n",
              "<table border=\"1\" class=\"dataframe\">\n",
              "  <thead>\n",
              "    <tr style=\"text-align: right;\">\n",
              "      <th></th>\n",
              "      <th>Tanggal</th>\n",
              "      <th>KodeLokasi</th>\n",
              "      <th>SuhuMin</th>\n",
              "      <th>SuhuMax</th>\n",
              "      <th>Hujan</th>\n",
              "      <th>Penguapan</th>\n",
              "      <th>SinarMatahari</th>\n",
              "      <th>ArahAnginTerkencang</th>\n",
              "      <th>KecepatanAnginTerkencang</th>\n",
              "      <th>ArahAngin9am</th>\n",
              "      <th>ArahAngin3pm</th>\n",
              "      <th>KecepatanAngin9am</th>\n",
              "      <th>KecepatanAngin3pm</th>\n",
              "      <th>Kelembaban9am</th>\n",
              "      <th>Kelembaban3pm</th>\n",
              "      <th>Tekanan9am</th>\n",
              "      <th>Tekanan3pm</th>\n",
              "      <th>Awan9am</th>\n",
              "      <th>Awan3pm</th>\n",
              "      <th>Suhu9am</th>\n",
              "      <th>Suhu3pm</th>\n",
              "      <th>BersaljuHariIni</th>\n",
              "      <th>BersaljuBesok</th>\n",
              "    </tr>\n",
              "  </thead>\n",
              "  <tbody>\n",
              "    <tr>\n",
              "      <th>0</th>\n",
              "      <td>04/11/2010</td>\n",
              "      <td>C39</td>\n",
              "      <td>11.0</td>\n",
              "      <td>27.5</td>\n",
              "      <td>0.0</td>\n",
              "      <td>NaN</td>\n",
              "      <td>6.4</td>\n",
              "      <td>WSW</td>\n",
              "      <td>46.0</td>\n",
              "      <td>W</td>\n",
              "      <td>W</td>\n",
              "      <td>20.0</td>\n",
              "      <td>28.0</td>\n",
              "      <td>39.0</td>\n",
              "      <td>56.0</td>\n",
              "      <td>1013.0</td>\n",
              "      <td>1012.4</td>\n",
              "      <td>4.0</td>\n",
              "      <td>7.0</td>\n",
              "      <td>25.7</td>\n",
              "      <td>23.6</td>\n",
              "      <td>No</td>\n",
              "      <td>No</td>\n",
              "    </tr>\n",
              "    <tr>\n",
              "      <th>1</th>\n",
              "      <td>26/03/2015</td>\n",
              "      <td>C35</td>\n",
              "      <td>10.0</td>\n",
              "      <td>19.9</td>\n",
              "      <td>0.2</td>\n",
              "      <td>NaN</td>\n",
              "      <td>NaN</td>\n",
              "      <td>WNW</td>\n",
              "      <td>56.0</td>\n",
              "      <td>W</td>\n",
              "      <td>NW</td>\n",
              "      <td>24.0</td>\n",
              "      <td>33.0</td>\n",
              "      <td>76.0</td>\n",
              "      <td>32.0</td>\n",
              "      <td>1017.0</td>\n",
              "      <td>1015.2</td>\n",
              "      <td>8.0</td>\n",
              "      <td>1.0</td>\n",
              "      <td>10.7</td>\n",
              "      <td>18.9</td>\n",
              "      <td>No</td>\n",
              "      <td>Yes</td>\n",
              "    </tr>\n",
              "    <tr>\n",
              "      <th>2</th>\n",
              "      <td>22/03/2016</td>\n",
              "      <td>C18</td>\n",
              "      <td>9.2</td>\n",
              "      <td>27.2</td>\n",
              "      <td>0.0</td>\n",
              "      <td>5.2</td>\n",
              "      <td>10.4</td>\n",
              "      <td>SSW</td>\n",
              "      <td>33.0</td>\n",
              "      <td>NE</td>\n",
              "      <td>N</td>\n",
              "      <td>13.0</td>\n",
              "      <td>19.0</td>\n",
              "      <td>89.0</td>\n",
              "      <td>27.0</td>\n",
              "      <td>1018.6</td>\n",
              "      <td>1015.7</td>\n",
              "      <td>0.0</td>\n",
              "      <td>1.0</td>\n",
              "      <td>13.9</td>\n",
              "      <td>26.3</td>\n",
              "      <td>No</td>\n",
              "      <td>No</td>\n",
              "    </tr>\n",
              "    <tr>\n",
              "      <th>3</th>\n",
              "      <td>09/12/2011</td>\n",
              "      <td>C31</td>\n",
              "      <td>17.7</td>\n",
              "      <td>27.0</td>\n",
              "      <td>0.0</td>\n",
              "      <td>4.6</td>\n",
              "      <td>6.7</td>\n",
              "      <td>SW</td>\n",
              "      <td>35.0</td>\n",
              "      <td>E</td>\n",
              "      <td>SSE</td>\n",
              "      <td>20.0</td>\n",
              "      <td>15.0</td>\n",
              "      <td>55.0</td>\n",
              "      <td>41.0</td>\n",
              "      <td>1010.2</td>\n",
              "      <td>1008.6</td>\n",
              "      <td>7.0</td>\n",
              "      <td>6.0</td>\n",
              "      <td>22.3</td>\n",
              "      <td>26.4</td>\n",
              "      <td>No</td>\n",
              "      <td>No</td>\n",
              "    </tr>\n",
              "    <tr>\n",
              "      <th>4</th>\n",
              "      <td>20/05/2017</td>\n",
              "      <td>C14</td>\n",
              "      <td>2.3</td>\n",
              "      <td>7.9</td>\n",
              "      <td>88.0</td>\n",
              "      <td>NaN</td>\n",
              "      <td>NaN</td>\n",
              "      <td>NW</td>\n",
              "      <td>46.0</td>\n",
              "      <td>W</td>\n",
              "      <td>WNW</td>\n",
              "      <td>13.0</td>\n",
              "      <td>9.0</td>\n",
              "      <td>98.0</td>\n",
              "      <td>95.0</td>\n",
              "      <td>NaN</td>\n",
              "      <td>NaN</td>\n",
              "      <td>NaN</td>\n",
              "      <td>NaN</td>\n",
              "      <td>4.4</td>\n",
              "      <td>6.0</td>\n",
              "      <td>Yes</td>\n",
              "      <td>No</td>\n",
              "    </tr>\n",
              "  </tbody>\n",
              "</table>\n",
              "</div>"
            ],
            "text/plain": [
              "      Tanggal KodeLokasi  SuhuMin  ...  Suhu3pm  BersaljuHariIni  BersaljuBesok\n",
              "0  04/11/2010        C39     11.0  ...     23.6               No             No\n",
              "1  26/03/2015        C35     10.0  ...     18.9               No            Yes\n",
              "2  22/03/2016        C18      9.2  ...     26.3               No             No\n",
              "3  09/12/2011        C31     17.7  ...     26.4               No             No\n",
              "4  20/05/2017        C14      2.3  ...      6.0              Yes             No\n",
              "\n",
              "[5 rows x 23 columns]"
            ]
          },
          "metadata": {
            "tags": []
          },
          "execution_count": 22
        }
      ]
    },
    {
      "cell_type": "code",
      "metadata": {
        "id": "nzOdbSL-9HoM"
      },
      "source": [
        "# Drop data yang duplikat\n",
        "datasalju_test = datasalju_test.drop_duplicates()"
      ],
      "execution_count": null,
      "outputs": []
    },
    {
      "cell_type": "code",
      "metadata": {
        "colab": {
          "base_uri": "https://localhost:8080/"
        },
        "id": "WUJid6kz9Voy",
        "outputId": "6fb70972-4ebf-4185-9b20-a5060bae88c0"
      },
      "source": [
        "datasalju_test.info()"
      ],
      "execution_count": null,
      "outputs": [
        {
          "output_type": "stream",
          "text": [
            "<class 'pandas.core.frame.DataFrame'>\n",
            "Int64Index: 18182 entries, 0 to 18181\n",
            "Data columns (total 23 columns):\n",
            " #   Column                    Non-Null Count  Dtype  \n",
            "---  ------                    --------------  -----  \n",
            " 0   Tanggal                   18182 non-null  object \n",
            " 1   KodeLokasi                18182 non-null  object \n",
            " 2   SuhuMin                   18017 non-null  float64\n",
            " 3   SuhuMax                   18017 non-null  float64\n",
            " 4   Hujan                     17795 non-null  float64\n",
            " 5   Penguapan                 10326 non-null  float64\n",
            " 6   SinarMatahari             9464 non-null   float64\n",
            " 7   ArahAnginTerkencang       16901 non-null  object \n",
            " 8   KecepatanAnginTerkencang  16908 non-null  float64\n",
            " 9   ArahAngin9am              16874 non-null  object \n",
            " 10  ArahAngin3pm              17686 non-null  object \n",
            " 11  KecepatanAngin9am         17984 non-null  float64\n",
            " 12  KecepatanAngin3pm         17828 non-null  float64\n",
            " 13  Kelembaban9am             17852 non-null  float64\n",
            " 14  Kelembaban3pm             17634 non-null  float64\n",
            " 15  Tekanan9am                16317 non-null  float64\n",
            " 16  Tekanan3pm                16329 non-null  float64\n",
            " 17  Awan9am                   11140 non-null  float64\n",
            " 18  Awan3pm                   10726 non-null  float64\n",
            " 19  Suhu9am                   17963 non-null  float64\n",
            " 20  Suhu3pm                   17740 non-null  float64\n",
            " 21  BersaljuHariIni           17795 non-null  object \n",
            " 22  BersaljuBesok             17763 non-null  object \n",
            "dtypes: float64(16), object(7)\n",
            "memory usage: 3.3+ MB\n"
          ],
          "name": "stdout"
        }
      ]
    },
    {
      "cell_type": "code",
      "metadata": {
        "colab": {
          "base_uri": "https://localhost:8080/",
          "height": 173
        },
        "id": "Lfvrid4U9QEj",
        "outputId": "ee0facf3-4f0d-437e-a0c2-3f9dc52f6661"
      },
      "source": [
        "# Melihat value unique pada kolom data yang bertipe object\n",
        "datasalju_test.describe(include=[\"O\"])"
      ],
      "execution_count": null,
      "outputs": [
        {
          "output_type": "execute_result",
          "data": {
            "text/html": [
              "<div>\n",
              "<style scoped>\n",
              "    .dataframe tbody tr th:only-of-type {\n",
              "        vertical-align: middle;\n",
              "    }\n",
              "\n",
              "    .dataframe tbody tr th {\n",
              "        vertical-align: top;\n",
              "    }\n",
              "\n",
              "    .dataframe thead th {\n",
              "        text-align: right;\n",
              "    }\n",
              "</style>\n",
              "<table border=\"1\" class=\"dataframe\">\n",
              "  <thead>\n",
              "    <tr style=\"text-align: right;\">\n",
              "      <th></th>\n",
              "      <th>Tanggal</th>\n",
              "      <th>KodeLokasi</th>\n",
              "      <th>ArahAnginTerkencang</th>\n",
              "      <th>ArahAngin9am</th>\n",
              "      <th>ArahAngin3pm</th>\n",
              "      <th>BersaljuHariIni</th>\n",
              "      <th>BersaljuBesok</th>\n",
              "    </tr>\n",
              "  </thead>\n",
              "  <tbody>\n",
              "    <tr>\n",
              "      <th>count</th>\n",
              "      <td>18182</td>\n",
              "      <td>18182</td>\n",
              "      <td>16901</td>\n",
              "      <td>16874</td>\n",
              "      <td>17686</td>\n",
              "      <td>17795</td>\n",
              "      <td>17763</td>\n",
              "    </tr>\n",
              "    <tr>\n",
              "      <th>unique</th>\n",
              "      <td>3151</td>\n",
              "      <td>49</td>\n",
              "      <td>16</td>\n",
              "      <td>16</td>\n",
              "      <td>16</td>\n",
              "      <td>2</td>\n",
              "      <td>2</td>\n",
              "    </tr>\n",
              "    <tr>\n",
              "      <th>top</th>\n",
              "      <td>23/02/2017</td>\n",
              "      <td>C24</td>\n",
              "      <td>SSE</td>\n",
              "      <td>N</td>\n",
              "      <td>SE</td>\n",
              "      <td>No</td>\n",
              "      <td>No</td>\n",
              "    </tr>\n",
              "    <tr>\n",
              "      <th>freq</th>\n",
              "      <td>14</td>\n",
              "      <td>426</td>\n",
              "      <td>1189</td>\n",
              "      <td>1460</td>\n",
              "      <td>1349</td>\n",
              "      <td>13830</td>\n",
              "      <td>13824</td>\n",
              "    </tr>\n",
              "  </tbody>\n",
              "</table>\n",
              "</div>"
            ],
            "text/plain": [
              "           Tanggal KodeLokasi  ... BersaljuHariIni BersaljuBesok\n",
              "count        18182      18182  ...           17795         17763\n",
              "unique        3151         49  ...               2             2\n",
              "top     23/02/2017        C24  ...              No            No\n",
              "freq            14        426  ...           13830         13824\n",
              "\n",
              "[4 rows x 7 columns]"
            ]
          },
          "metadata": {
            "tags": []
          },
          "execution_count": 25
        }
      ]
    },
    {
      "cell_type": "code",
      "metadata": {
        "colab": {
          "base_uri": "https://localhost:8080/"
        },
        "id": "NUOLJMuZ_HVJ",
        "outputId": "ea9b9b98-06cc-4e56-de2c-8099145252eb"
      },
      "source": [
        "BersaljuHariIni_test = list(datasalju_test['BersaljuHariIni'].unique())\n",
        "BersaljuHariIni_test"
      ],
      "execution_count": null,
      "outputs": [
        {
          "output_type": "execute_result",
          "data": {
            "text/plain": [
              "['No', 'Yes', nan]"
            ]
          },
          "metadata": {
            "tags": []
          },
          "execution_count": 26
        }
      ]
    },
    {
      "cell_type": "code",
      "metadata": {
        "colab": {
          "base_uri": "https://localhost:8080/"
        },
        "id": "g299fQve_MXl",
        "outputId": "cac00710-e5fd-4c76-b7e3-61c53361ca2e"
      },
      "source": [
        "BersaljuBesok_test = list(datasalju_test['BersaljuBesok'].unique())\n",
        "BersaljuBesok_test"
      ],
      "execution_count": null,
      "outputs": [
        {
          "output_type": "execute_result",
          "data": {
            "text/plain": [
              "['No', 'Yes', nan]"
            ]
          },
          "metadata": {
            "tags": []
          },
          "execution_count": 27
        }
      ]
    },
    {
      "cell_type": "code",
      "metadata": {
        "id": "TGTxnJ9I9e4s"
      },
      "source": [
        "#Melakukan encode value data yang bertipe object menjadi bertipe integer/float\n",
        "encode_dfst = {\"KodeLokasi\": {\"C1\":0, \"C2\":1, \"C3\":2, \"C4\":3, \"C5\":4, \"C6\":5, \"C7\":6, \"C8\":7, \"C9\":8, \"C10\":9, \n",
        "                              \"C11\":10, \"C12\":11, \"C13\":12, \"C14\":13, \"C15\":14, \"C16\":15, \"C17\":16, \"C18\":17, \"C19\":18, \"C20\":19,\n",
        "                              \"C21\":20, \"C22\":21, \"C23\":22, \"C24\":23, \"C25\":24, \"C26\":25, \"C27\":26, \"C28\":27, \"C29\":28, \"C30\":29,\n",
        "                              \"C31\":30, \"C32\":31, \"C33\":32, \"C34\":33, \"C35\":34, \"C36\":35, \"C37\":36, \"C38\":37, \"C39\":38, \"C40\":39, \n",
        "                              \"C41\":40, \"C42\":41, \"C43\":42, \"C44\":43, \"C45\":44, \"C46\":45, \"C47\":46, \"C48\":47, \"C49\":48},\n",
        "               \"ArahAnginTerkencang\": {\"E\":0, \"ENE\":1, \"ESE\":2, \"N\":3, \"NE\":4, \"NNE\":5,\n",
        "                                       \"NNW\":6, \"NW\":7, \"S\":8, \"SE\":9, \"SSE\":10,\n",
        "                                       \"SSW\":11, \"SW\":12, \"W\":13, \"WNW\":14, \"WSW\":15},\n",
        "               \"ArahAngin9am\": {\"E\":0, \"ENE\":1, \"ESE\":2, \"N\":3, \"NE\":4, \"NNE\":5,\n",
        "                                \"NNW\":6, \"NW\":7, \"S\":8, \"SE\":9, \"SSE\":10,\n",
        "                                \"SSW\":11, \"SW\":12, \"W\":13, \"WNW\":14, \"WSW\":15},\n",
        "               \"ArahAngin3pm\": {\"E\":0, \"ENE\":1, \"ESE\":2, \"N\":3, \"NE\":4, \"NNE\":5,\n",
        "                                \"NNW\":6, \"NW\":7, \"S\":8, \"SE\":9, \"SSE\":10,\n",
        "                                \"SSW\":11, \"SW\":12, \"W\":13, \"WNW\":14, \"WSW\":15},\n",
        "               \"BersaljuHariIni\": {\"Yes\":0 , \"No\":1},\n",
        "               \"BersaljuBesok\": {\"Yes\":0 , \"No\":1}}\n",
        "datasalju_test.replace(encode_dfst, inplace=True) #Test"
      ],
      "execution_count": null,
      "outputs": []
    },
    {
      "cell_type": "code",
      "metadata": {
        "colab": {
          "base_uri": "https://localhost:8080/",
          "height": 224
        },
        "id": "SPzcskSS9_PH",
        "outputId": "886bfd82-7630-4b89-9e49-31c8c8cd6823"
      },
      "source": [
        "datasalju_test.head()"
      ],
      "execution_count": null,
      "outputs": [
        {
          "output_type": "execute_result",
          "data": {
            "text/html": [
              "<div>\n",
              "<style scoped>\n",
              "    .dataframe tbody tr th:only-of-type {\n",
              "        vertical-align: middle;\n",
              "    }\n",
              "\n",
              "    .dataframe tbody tr th {\n",
              "        vertical-align: top;\n",
              "    }\n",
              "\n",
              "    .dataframe thead th {\n",
              "        text-align: right;\n",
              "    }\n",
              "</style>\n",
              "<table border=\"1\" class=\"dataframe\">\n",
              "  <thead>\n",
              "    <tr style=\"text-align: right;\">\n",
              "      <th></th>\n",
              "      <th>Tanggal</th>\n",
              "      <th>KodeLokasi</th>\n",
              "      <th>SuhuMin</th>\n",
              "      <th>SuhuMax</th>\n",
              "      <th>Hujan</th>\n",
              "      <th>Penguapan</th>\n",
              "      <th>SinarMatahari</th>\n",
              "      <th>ArahAnginTerkencang</th>\n",
              "      <th>KecepatanAnginTerkencang</th>\n",
              "      <th>ArahAngin9am</th>\n",
              "      <th>ArahAngin3pm</th>\n",
              "      <th>KecepatanAngin9am</th>\n",
              "      <th>KecepatanAngin3pm</th>\n",
              "      <th>Kelembaban9am</th>\n",
              "      <th>Kelembaban3pm</th>\n",
              "      <th>Tekanan9am</th>\n",
              "      <th>Tekanan3pm</th>\n",
              "      <th>Awan9am</th>\n",
              "      <th>Awan3pm</th>\n",
              "      <th>Suhu9am</th>\n",
              "      <th>Suhu3pm</th>\n",
              "      <th>BersaljuHariIni</th>\n",
              "      <th>BersaljuBesok</th>\n",
              "    </tr>\n",
              "  </thead>\n",
              "  <tbody>\n",
              "    <tr>\n",
              "      <th>0</th>\n",
              "      <td>04/11/2010</td>\n",
              "      <td>38</td>\n",
              "      <td>11.0</td>\n",
              "      <td>27.5</td>\n",
              "      <td>0.0</td>\n",
              "      <td>NaN</td>\n",
              "      <td>6.4</td>\n",
              "      <td>15.0</td>\n",
              "      <td>46.0</td>\n",
              "      <td>13.0</td>\n",
              "      <td>13.0</td>\n",
              "      <td>20.0</td>\n",
              "      <td>28.0</td>\n",
              "      <td>39.0</td>\n",
              "      <td>56.0</td>\n",
              "      <td>1013.0</td>\n",
              "      <td>1012.4</td>\n",
              "      <td>4.0</td>\n",
              "      <td>7.0</td>\n",
              "      <td>25.7</td>\n",
              "      <td>23.6</td>\n",
              "      <td>1.0</td>\n",
              "      <td>1.0</td>\n",
              "    </tr>\n",
              "    <tr>\n",
              "      <th>1</th>\n",
              "      <td>26/03/2015</td>\n",
              "      <td>34</td>\n",
              "      <td>10.0</td>\n",
              "      <td>19.9</td>\n",
              "      <td>0.2</td>\n",
              "      <td>NaN</td>\n",
              "      <td>NaN</td>\n",
              "      <td>14.0</td>\n",
              "      <td>56.0</td>\n",
              "      <td>13.0</td>\n",
              "      <td>7.0</td>\n",
              "      <td>24.0</td>\n",
              "      <td>33.0</td>\n",
              "      <td>76.0</td>\n",
              "      <td>32.0</td>\n",
              "      <td>1017.0</td>\n",
              "      <td>1015.2</td>\n",
              "      <td>8.0</td>\n",
              "      <td>1.0</td>\n",
              "      <td>10.7</td>\n",
              "      <td>18.9</td>\n",
              "      <td>1.0</td>\n",
              "      <td>0.0</td>\n",
              "    </tr>\n",
              "    <tr>\n",
              "      <th>2</th>\n",
              "      <td>22/03/2016</td>\n",
              "      <td>17</td>\n",
              "      <td>9.2</td>\n",
              "      <td>27.2</td>\n",
              "      <td>0.0</td>\n",
              "      <td>5.2</td>\n",
              "      <td>10.4</td>\n",
              "      <td>11.0</td>\n",
              "      <td>33.0</td>\n",
              "      <td>4.0</td>\n",
              "      <td>3.0</td>\n",
              "      <td>13.0</td>\n",
              "      <td>19.0</td>\n",
              "      <td>89.0</td>\n",
              "      <td>27.0</td>\n",
              "      <td>1018.6</td>\n",
              "      <td>1015.7</td>\n",
              "      <td>0.0</td>\n",
              "      <td>1.0</td>\n",
              "      <td>13.9</td>\n",
              "      <td>26.3</td>\n",
              "      <td>1.0</td>\n",
              "      <td>1.0</td>\n",
              "    </tr>\n",
              "    <tr>\n",
              "      <th>3</th>\n",
              "      <td>09/12/2011</td>\n",
              "      <td>30</td>\n",
              "      <td>17.7</td>\n",
              "      <td>27.0</td>\n",
              "      <td>0.0</td>\n",
              "      <td>4.6</td>\n",
              "      <td>6.7</td>\n",
              "      <td>12.0</td>\n",
              "      <td>35.0</td>\n",
              "      <td>0.0</td>\n",
              "      <td>10.0</td>\n",
              "      <td>20.0</td>\n",
              "      <td>15.0</td>\n",
              "      <td>55.0</td>\n",
              "      <td>41.0</td>\n",
              "      <td>1010.2</td>\n",
              "      <td>1008.6</td>\n",
              "      <td>7.0</td>\n",
              "      <td>6.0</td>\n",
              "      <td>22.3</td>\n",
              "      <td>26.4</td>\n",
              "      <td>1.0</td>\n",
              "      <td>1.0</td>\n",
              "    </tr>\n",
              "    <tr>\n",
              "      <th>4</th>\n",
              "      <td>20/05/2017</td>\n",
              "      <td>13</td>\n",
              "      <td>2.3</td>\n",
              "      <td>7.9</td>\n",
              "      <td>88.0</td>\n",
              "      <td>NaN</td>\n",
              "      <td>NaN</td>\n",
              "      <td>7.0</td>\n",
              "      <td>46.0</td>\n",
              "      <td>13.0</td>\n",
              "      <td>14.0</td>\n",
              "      <td>13.0</td>\n",
              "      <td>9.0</td>\n",
              "      <td>98.0</td>\n",
              "      <td>95.0</td>\n",
              "      <td>NaN</td>\n",
              "      <td>NaN</td>\n",
              "      <td>NaN</td>\n",
              "      <td>NaN</td>\n",
              "      <td>4.4</td>\n",
              "      <td>6.0</td>\n",
              "      <td>0.0</td>\n",
              "      <td>1.0</td>\n",
              "    </tr>\n",
              "  </tbody>\n",
              "</table>\n",
              "</div>"
            ],
            "text/plain": [
              "      Tanggal  KodeLokasi  SuhuMin  ...  Suhu3pm  BersaljuHariIni  BersaljuBesok\n",
              "0  04/11/2010          38     11.0  ...     23.6              1.0            1.0\n",
              "1  26/03/2015          34     10.0  ...     18.9              1.0            0.0\n",
              "2  22/03/2016          17      9.2  ...     26.3              1.0            1.0\n",
              "3  09/12/2011          30     17.7  ...     26.4              1.0            1.0\n",
              "4  20/05/2017          13      2.3  ...      6.0              0.0            1.0\n",
              "\n",
              "[5 rows x 23 columns]"
            ]
          },
          "metadata": {
            "tags": []
          },
          "execution_count": 29
        }
      ]
    },
    {
      "cell_type": "code",
      "metadata": {
        "id": "swCAecqT-ISo"
      },
      "source": [
        "cols = ['Tanggal', 'KodeLokasi', 'SuhuMin', 'SuhuMax', 'Hujan', 'Penguapan',\n",
        "        'SinarMatahari', 'ArahAnginTerkencang', 'KecepatanAnginTerkencang',\n",
        "        'ArahAngin9am', 'ArahAngin3pm', 'KecepatanAngin9am',\n",
        "        'KecepatanAngin3pm', 'Kelembaban9am', 'Kelembaban3pm', 'Tekanan9am',\n",
        "        'Tekanan3pm', 'Awan9am', 'Awan3pm', 'Suhu9am', 'Suhu3pm',\n",
        "        'BersaljuHariIni', 'BersaljuBesok']\n",
        "# Missing value handler\n",
        "for col in cols:\n",
        "    datasalju_test[col] = datasalju_test[col].fillna(datasalju_test[col].mode()[0]) #Test"
      ],
      "execution_count": null,
      "outputs": []
    },
    {
      "cell_type": "code",
      "metadata": {
        "colab": {
          "base_uri": "https://localhost:8080/",
          "height": 224
        },
        "id": "HvLL825u-U_P",
        "outputId": "1ce11634-51bb-4119-b790-1dc718cd2e15"
      },
      "source": [
        "datasalju_test.head()"
      ],
      "execution_count": null,
      "outputs": [
        {
          "output_type": "execute_result",
          "data": {
            "text/html": [
              "<div>\n",
              "<style scoped>\n",
              "    .dataframe tbody tr th:only-of-type {\n",
              "        vertical-align: middle;\n",
              "    }\n",
              "\n",
              "    .dataframe tbody tr th {\n",
              "        vertical-align: top;\n",
              "    }\n",
              "\n",
              "    .dataframe thead th {\n",
              "        text-align: right;\n",
              "    }\n",
              "</style>\n",
              "<table border=\"1\" class=\"dataframe\">\n",
              "  <thead>\n",
              "    <tr style=\"text-align: right;\">\n",
              "      <th></th>\n",
              "      <th>Tanggal</th>\n",
              "      <th>KodeLokasi</th>\n",
              "      <th>SuhuMin</th>\n",
              "      <th>SuhuMax</th>\n",
              "      <th>Hujan</th>\n",
              "      <th>Penguapan</th>\n",
              "      <th>SinarMatahari</th>\n",
              "      <th>ArahAnginTerkencang</th>\n",
              "      <th>KecepatanAnginTerkencang</th>\n",
              "      <th>ArahAngin9am</th>\n",
              "      <th>ArahAngin3pm</th>\n",
              "      <th>KecepatanAngin9am</th>\n",
              "      <th>KecepatanAngin3pm</th>\n",
              "      <th>Kelembaban9am</th>\n",
              "      <th>Kelembaban3pm</th>\n",
              "      <th>Tekanan9am</th>\n",
              "      <th>Tekanan3pm</th>\n",
              "      <th>Awan9am</th>\n",
              "      <th>Awan3pm</th>\n",
              "      <th>Suhu9am</th>\n",
              "      <th>Suhu3pm</th>\n",
              "      <th>BersaljuHariIni</th>\n",
              "      <th>BersaljuBesok</th>\n",
              "    </tr>\n",
              "  </thead>\n",
              "  <tbody>\n",
              "    <tr>\n",
              "      <th>0</th>\n",
              "      <td>04/11/2010</td>\n",
              "      <td>38</td>\n",
              "      <td>11.0</td>\n",
              "      <td>27.5</td>\n",
              "      <td>0.0</td>\n",
              "      <td>4.0</td>\n",
              "      <td>6.4</td>\n",
              "      <td>15.0</td>\n",
              "      <td>46.0</td>\n",
              "      <td>13.0</td>\n",
              "      <td>13.0</td>\n",
              "      <td>20.0</td>\n",
              "      <td>28.0</td>\n",
              "      <td>39.0</td>\n",
              "      <td>56.0</td>\n",
              "      <td>1013.0</td>\n",
              "      <td>1012.4</td>\n",
              "      <td>4.0</td>\n",
              "      <td>7.0</td>\n",
              "      <td>25.7</td>\n",
              "      <td>23.6</td>\n",
              "      <td>1.0</td>\n",
              "      <td>1.0</td>\n",
              "    </tr>\n",
              "    <tr>\n",
              "      <th>1</th>\n",
              "      <td>26/03/2015</td>\n",
              "      <td>34</td>\n",
              "      <td>10.0</td>\n",
              "      <td>19.9</td>\n",
              "      <td>0.2</td>\n",
              "      <td>4.0</td>\n",
              "      <td>0.0</td>\n",
              "      <td>14.0</td>\n",
              "      <td>56.0</td>\n",
              "      <td>13.0</td>\n",
              "      <td>7.0</td>\n",
              "      <td>24.0</td>\n",
              "      <td>33.0</td>\n",
              "      <td>76.0</td>\n",
              "      <td>32.0</td>\n",
              "      <td>1017.0</td>\n",
              "      <td>1015.2</td>\n",
              "      <td>8.0</td>\n",
              "      <td>1.0</td>\n",
              "      <td>10.7</td>\n",
              "      <td>18.9</td>\n",
              "      <td>1.0</td>\n",
              "      <td>0.0</td>\n",
              "    </tr>\n",
              "    <tr>\n",
              "      <th>2</th>\n",
              "      <td>22/03/2016</td>\n",
              "      <td>17</td>\n",
              "      <td>9.2</td>\n",
              "      <td>27.2</td>\n",
              "      <td>0.0</td>\n",
              "      <td>5.2</td>\n",
              "      <td>10.4</td>\n",
              "      <td>11.0</td>\n",
              "      <td>33.0</td>\n",
              "      <td>4.0</td>\n",
              "      <td>3.0</td>\n",
              "      <td>13.0</td>\n",
              "      <td>19.0</td>\n",
              "      <td>89.0</td>\n",
              "      <td>27.0</td>\n",
              "      <td>1018.6</td>\n",
              "      <td>1015.7</td>\n",
              "      <td>0.0</td>\n",
              "      <td>1.0</td>\n",
              "      <td>13.9</td>\n",
              "      <td>26.3</td>\n",
              "      <td>1.0</td>\n",
              "      <td>1.0</td>\n",
              "    </tr>\n",
              "    <tr>\n",
              "      <th>3</th>\n",
              "      <td>09/12/2011</td>\n",
              "      <td>30</td>\n",
              "      <td>17.7</td>\n",
              "      <td>27.0</td>\n",
              "      <td>0.0</td>\n",
              "      <td>4.6</td>\n",
              "      <td>6.7</td>\n",
              "      <td>12.0</td>\n",
              "      <td>35.0</td>\n",
              "      <td>0.0</td>\n",
              "      <td>10.0</td>\n",
              "      <td>20.0</td>\n",
              "      <td>15.0</td>\n",
              "      <td>55.0</td>\n",
              "      <td>41.0</td>\n",
              "      <td>1010.2</td>\n",
              "      <td>1008.6</td>\n",
              "      <td>7.0</td>\n",
              "      <td>6.0</td>\n",
              "      <td>22.3</td>\n",
              "      <td>26.4</td>\n",
              "      <td>1.0</td>\n",
              "      <td>1.0</td>\n",
              "    </tr>\n",
              "    <tr>\n",
              "      <th>4</th>\n",
              "      <td>20/05/2017</td>\n",
              "      <td>13</td>\n",
              "      <td>2.3</td>\n",
              "      <td>7.9</td>\n",
              "      <td>88.0</td>\n",
              "      <td>4.0</td>\n",
              "      <td>0.0</td>\n",
              "      <td>7.0</td>\n",
              "      <td>46.0</td>\n",
              "      <td>13.0</td>\n",
              "      <td>14.0</td>\n",
              "      <td>13.0</td>\n",
              "      <td>9.0</td>\n",
              "      <td>98.0</td>\n",
              "      <td>95.0</td>\n",
              "      <td>1018.2</td>\n",
              "      <td>1016.6</td>\n",
              "      <td>7.0</td>\n",
              "      <td>7.0</td>\n",
              "      <td>4.4</td>\n",
              "      <td>6.0</td>\n",
              "      <td>0.0</td>\n",
              "      <td>1.0</td>\n",
              "    </tr>\n",
              "  </tbody>\n",
              "</table>\n",
              "</div>"
            ],
            "text/plain": [
              "      Tanggal  KodeLokasi  SuhuMin  ...  Suhu3pm  BersaljuHariIni  BersaljuBesok\n",
              "0  04/11/2010          38     11.0  ...     23.6              1.0            1.0\n",
              "1  26/03/2015          34     10.0  ...     18.9              1.0            0.0\n",
              "2  22/03/2016          17      9.2  ...     26.3              1.0            1.0\n",
              "3  09/12/2011          30     17.7  ...     26.4              1.0            1.0\n",
              "4  20/05/2017          13      2.3  ...      6.0              0.0            1.0\n",
              "\n",
              "[5 rows x 23 columns]"
            ]
          },
          "metadata": {
            "tags": []
          },
          "execution_count": 31
        }
      ]
    },
    {
      "cell_type": "code",
      "metadata": {
        "colab": {
          "base_uri": "https://localhost:8080/"
        },
        "id": "ZIKhJVa9-aOk",
        "outputId": "eba66d5c-8099-4604-d3a7-ca7b57c0f119"
      },
      "source": [
        "datasalju_test.info()"
      ],
      "execution_count": null,
      "outputs": [
        {
          "output_type": "stream",
          "text": [
            "<class 'pandas.core.frame.DataFrame'>\n",
            "Int64Index: 18182 entries, 0 to 18181\n",
            "Data columns (total 23 columns):\n",
            " #   Column                    Non-Null Count  Dtype  \n",
            "---  ------                    --------------  -----  \n",
            " 0   Tanggal                   18182 non-null  object \n",
            " 1   KodeLokasi                18182 non-null  int64  \n",
            " 2   SuhuMin                   18182 non-null  float64\n",
            " 3   SuhuMax                   18182 non-null  float64\n",
            " 4   Hujan                     18182 non-null  float64\n",
            " 5   Penguapan                 18182 non-null  float64\n",
            " 6   SinarMatahari             18182 non-null  float64\n",
            " 7   ArahAnginTerkencang       18182 non-null  float64\n",
            " 8   KecepatanAnginTerkencang  18182 non-null  float64\n",
            " 9   ArahAngin9am              18182 non-null  float64\n",
            " 10  ArahAngin3pm              18182 non-null  float64\n",
            " 11  KecepatanAngin9am         18182 non-null  float64\n",
            " 12  KecepatanAngin3pm         18182 non-null  float64\n",
            " 13  Kelembaban9am             18182 non-null  float64\n",
            " 14  Kelembaban3pm             18182 non-null  float64\n",
            " 15  Tekanan9am                18182 non-null  float64\n",
            " 16  Tekanan3pm                18182 non-null  float64\n",
            " 17  Awan9am                   18182 non-null  float64\n",
            " 18  Awan3pm                   18182 non-null  float64\n",
            " 19  Suhu9am                   18182 non-null  float64\n",
            " 20  Suhu3pm                   18182 non-null  float64\n",
            " 21  BersaljuHariIni           18182 non-null  float64\n",
            " 22  BersaljuBesok             18182 non-null  float64\n",
            "dtypes: float64(21), int64(1), object(1)\n",
            "memory usage: 3.3+ MB\n"
          ],
          "name": "stdout"
        }
      ]
    },
    {
      "cell_type": "markdown",
      "metadata": {
        "id": "ovVZ-Nbf4mE-"
      },
      "source": [
        "## Exploratory Data"
      ]
    },
    {
      "cell_type": "markdown",
      "metadata": {
        "id": "-eOfLZA1MKOC"
      },
      "source": [
        "Memvisualisasikan Dataset ke dalam bentuk Heatmap untuk melihat bagaimana korelasi antar atribut kolom dengan label kolom. Hal ini dilakukan untuk melihat atribut kolom mana yang paling berkaitan dengan label kolom. Sehingga hanya atribut kolom yang memiliki keterkaitan paling tinggi saja yang hanya akan digunakan pada pembangunan model nanti."
      ]
    },
    {
      "cell_type": "code",
      "metadata": {
        "colab": {
          "base_uri": "https://localhost:8080/",
          "height": 1000
        },
        "id": "ON4hc6mt4ga_",
        "outputId": "95f508c8-f23f-4174-c502-b364d5d4c200"
      },
      "source": [
        "plt.figure(figsize=(20,20))\n",
        "sns.heatmap(datasalju.corr(),\n",
        "            annot=True, \n",
        "            annot_kws={'size':9}, \n",
        "            cmap='RdYlGn')"
      ],
      "execution_count": null,
      "outputs": [
        {
          "output_type": "execute_result",
          "data": {
            "text/plain": [
              "<matplotlib.axes._subplots.AxesSubplot at 0x7fb82565c450>"
            ]
          },
          "metadata": {
            "tags": []
          },
          "execution_count": 33
        },
        {
          "output_type": "display_data",
          "data": {
            "image/png": "[encoded data removed]",
            "text/plain": [
              "<Figure size 1440x1440 with 2 Axes>"
            ]
          },
          "metadata": {
            "tags": [],
            "needs_background": "light"
          }
        }
      ]
    },
    {
      "cell_type": "code",
      "metadata": {
        "colab": {
          "base_uri": "https://localhost:8080/",
          "height": 730
        },
        "id": "Z8ULY0GaQIKd",
        "outputId": "f24d16f9-2255-4f6e-9b67-164808c71910"
      },
      "source": [
        "plt.figure(figsize=(8, 12))\n",
        "heatmap = sns.heatmap(datasalju.corr()[['BersaljuBesok']].sort_values(by='BersaljuBesok', ascending=False), vmin=-1, vmax=1, annot=True, cmap='RdYlGn')\n",
        "heatmap.set_title('fitur yang berkaitan dengan BersaljuBesok', fontdict={'fontsize':18}, pad=16);"
      ],
      "execution_count": null,
      "outputs": [
        {
          "output_type": "display_data",
          "data": {
            "image/png": "[encoded data removed]",
            "text/plain": [
              "<Figure size 576x864 with 2 Axes>"
            ]
          },
          "metadata": {
            "tags": [],
            "needs_background": "light"
          }
        }
      ]
    },
    {
      "cell_type": "markdown",
      "metadata": {
        "id": "cZNd8EHH5Z9k"
      },
      "source": [
        "Atribut Yang Mempengaruhi Turun Salju Besok atau tidak:\n",
        "1. BersaljuHariIni\n",
        "2. Tekanan9am\n",
        "3. Tekanan3pm\n",
        "4. Suhu3pm\n",
        "5. SinarMatahari\n",
        "6. SuhuMax"
      ]
    },
    {
      "cell_type": "markdown",
      "metadata": {
        "id": "8btn1eg76P6V"
      },
      "source": [
        "# Pemodelan"
      ]
    },
    {
      "cell_type": "markdown",
      "metadata": {
        "id": "wjvanl9F63bJ"
      },
      "source": [
        "## Split Data"
      ]
    },
    {
      "cell_type": "code",
      "metadata": {
        "id": "_5cdoBB16SPm"
      },
      "source": [
        "cols = ['SuhuMax', 'SinarMatahari', 'Tekanan9am', 'Tekanan3pm', 'Suhu3pm', 'BersaljuHariIni']\n",
        "#Train\n",
        "X_train = datasalju[cols].to_numpy()\n",
        "y_train = datasalju['BersaljuBesok'].to_numpy()\n",
        "\n",
        "#Test\n",
        "X_test = datasalju_test[cols].to_numpy()\n",
        "y_test = datasalju_test['BersaljuBesok'].to_numpy()\n"
      ],
      "execution_count": null,
      "outputs": []
    },
    {
      "cell_type": "markdown",
      "metadata": {
        "id": "lB1E_fIAq0Wf"
      },
      "source": [
        "cols = ['SuhuMax', 'SinarMatahari', 'Tekanan9am', 'Tekanan3pm', 'Suhu3pm', 'BersaljuHariIni']\n",
        "#Train\n",
        "X_train = datasalju[cols].to_numpy()\n",
        "y_train = datasalju['BersaljuBesok'].to_numpy()\n",
        "\n",
        "#Test\n",
        "X_test = datasalju_test[cols].to_numpy()\n",
        "y_test = datasalju_test['BersaljuBesok'].to_numpy()\n"
      ]
    },
    {
      "cell_type": "markdown",
      "metadata": {
        "id": "5rTmu7FI8x-y"
      },
      "source": [
        "## Supervised Learning: Classification - Decission Tree"
      ]
    },
    {
      "cell_type": "code",
      "metadata": {
        "colab": {
          "base_uri": "https://localhost:8080/"
        },
        "id": "wMz685eO7y8t",
        "outputId": "335b94ad-1961-4fcf-f7e5-3c1386df40dc"
      },
      "source": [
        "# membuat model Decision Tree\n",
        "tree_model = DecisionTreeClassifier() \n",
        " \n",
        "# melakukan pelatihan model terhadap data train\n",
        "tree_model.fit(X_train, y_train)"
      ],
      "execution_count": null,
      "outputs": [
        {
          "output_type": "execute_result",
          "data": {
            "text/plain": [
              "DecisionTreeClassifier(ccp_alpha=0.0, class_weight=None, criterion='gini',\n",
              "                       max_depth=None, max_features=None, max_leaf_nodes=None,\n",
              "                       min_impurity_decrease=0.0, min_impurity_split=None,\n",
              "                       min_samples_leaf=1, min_samples_split=2,\n",
              "                       min_weight_fraction_leaf=0.0, presort='deprecated',\n",
              "                       random_state=None, splitter='best')"
            ]
          },
          "metadata": {
            "tags": []
          },
          "execution_count": 36
        }
      ]
    },
    {
      "cell_type": "markdown",
      "metadata": {
        "id": "P4q28foA8o6W"
      },
      "source": [
        "# Evaluasi"
      ]
    },
    {
      "cell_type": "code",
      "metadata": {
        "colab": {
          "base_uri": "https://localhost:8080/"
        },
        "id": "JdNpqtyJ8DsF",
        "outputId": "e1ded0c5-9c4b-4ef3-fe33-d1cb81cea0a0"
      },
      "source": [
        "# Menghitung Nilai precission, recall, f1-score, accuracy, dan macro avg dari evaluasi data test dengan model yang telah dibangun \n",
        "#0.0 \"Ya\", 1.0 \"Tidak\"\n",
        "y_pred = tree_model.predict(X_test)\n",
        "report = classification_report(y_test, y_pred)\n",
        "print(report)"
      ],
      "execution_count": null,
      "outputs": [
        {
          "output_type": "stream",
          "text": [
            "              precision    recall  f1-score   support\n",
            "\n",
            "         0.0       0.40      0.44      0.42      3939\n",
            "         1.0       0.84      0.82      0.83     14243\n",
            "\n",
            "    accuracy                           0.74     18182\n",
            "   macro avg       0.62      0.63      0.63     18182\n",
            "weighted avg       0.75      0.74      0.74     18182\n",
            "\n"
          ],
          "name": "stdout"
        }
      ]
    },
    {
      "cell_type": "markdown",
      "metadata": {
        "id": "55nuLe688mMm"
      },
      "source": [
        "# Kesimpulan"
      ]
    },
    {
      "cell_type": "code",
      "metadata": {
        "colab": {
          "base_uri": "https://localhost:8080/"
        },
        "id": "PUPxvFwK8ZAH",
        "outputId": "2eda4e0c-8c66-4372-fde4-d2d73a358e9b"
      },
      "source": [
        "# Melihat perbandingan accuray score data train dan data test yang telah dilakukan evaluasi dengan menggunakan model yang telah dibangun\n",
        "from sklearn.metrics import accuracy_score\n",
        "y_pred_train = tree_model.predict(X_train)\n",
        "print(\"Accuracy Score Data Train\", accuracy_score(y_train, y_pred_train))\n",
        "print(\"Accuracy Score Data Test\", accuracy_score(y_test, y_pred))"
      ],
      "execution_count": null,
      "outputs": [
        {
          "output_type": "stream",
          "text": [
            "Accuracy Score Data Train 0.9933360832302122\n",
            "Accuracy Score Data Test 0.7375976240237597\n"
          ],
          "name": "stdout"
        }
      ]
    },
    {
      "cell_type": "code",
      "metadata": {
        "id": "R0s5Jc48V7px"
      },
      "source": [
        "datasalju.to_csv('salju_train.csv')"
      ],
      "execution_count": null,
      "outputs": []
    },
    {
      "cell_type": "code",
      "metadata": {
        "id": "QDQ4KIdnWF-b"
      },
      "source": [
        "datasalju_test.to_csv('salju_test.csv')"
      ],
      "execution_count": null,
      "outputs": []
    }
  ]
}